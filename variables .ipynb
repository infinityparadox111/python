{
 "cells": [
  {
   "cell_type": "code",
   "execution_count": 19,
   "metadata": {},
   "outputs": [
    {
     "name": "stdout",
     "output_type": "stream",
     "text": [
      "this is string 4\n",
      "this is string 3\n",
      "this is string 2\n",
      "this is string 1\n"
     ]
    }
   ],
   "source": [
    "# swapping using one varible #\n",
    "\n",
    "a =  \"this is string 3\"\n",
    "b=   \"this is string 4\"\n",
    "v1= a\n",
    "a = b\n",
    "b = v1\n",
    "\n",
    "print (a)\n",
    "print (b)\n",
    "\n",
    "\n",
    "#swapping with two variables with two tempvariables\n",
    "\n",
    "a = \"this is string 1\"\n",
    "b = \"this is string 2\"\n",
    "v1 = a\n",
    "v2 = b\n",
    "a = v2\n",
    "b = v1\n",
    "print (a)\n",
    "print (b)\n",
    "\n"
   ]
  },
  {
   "cell_type": "code",
   "execution_count": 42,
   "metadata": {},
   "outputs": [
    {
     "name": "stdout",
     "output_type": "stream",
     "text": [
      "this is string4\n",
      "this is string3\n",
      "this is string2\n",
      "this is string1\n"
     ]
    }
   ],
   "source": [
    "# 4 variables  with 4 temp\n",
    "\n",
    "a = \"this is string1\"\n",
    "b = \"this is string2\"\n",
    "c = \"this is string3\"\n",
    "d = \"this is string4\"\n",
    "e= \"this is string 5\"\n",
    "v1 =a\n",
    "a = d\n",
    "d= v1\n",
    "v2 =b\n",
    "b=c\n",
    "c=v2\n",
    "\n",
    "\n",
    "print (a)\n",
    "print (b)\n",
    "print (c)\n",
    "print (d)\n",
    "\n",
    "\n"
   ]
  },
  {
   "cell_type": "code",
   "execution_count": null,
   "metadata": {},
   "outputs": [],
   "source": []
  },
  {
   "cell_type": "code",
   "execution_count": null,
   "metadata": {},
   "outputs": [],
   "source": []
  }
 ],
 "metadata": {
  "kernelspec": {
   "display_name": "Python 3",
   "language": "python",
   "name": "python3"
  },
  "language_info": {
   "codemirror_mode": {
    "name": "ipython",
    "version": 3
   },
   "file_extension": ".py",
   "mimetype": "text/x-python",
   "name": "python",
   "nbconvert_exporter": "python",
   "pygments_lexer": "ipython3",
   "version": "3.7.3"
  }
 },
 "nbformat": 4,
 "nbformat_minor": 2
}
